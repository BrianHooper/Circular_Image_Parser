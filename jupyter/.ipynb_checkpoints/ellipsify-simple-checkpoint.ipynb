{
 "cells": [
  {
   "cell_type": "code",
   "execution_count": 22,
   "metadata": {},
   "outputs": [],
   "source": [
    "from PIL import Image, ImageDraw\n",
    "import math\n",
    "import matplotlib.pyplot as plt\n",
    "from scipy import misc"
   ]
  },
  {
   "cell_type": "markdown",
   "metadata": {},
   "source": [
    "# Image-Elipsify\n",
    "\n",
    "Iterates over each pixel in an image and determines the largest possible circle that can be placed on the image without overwriting any signifigant features in the image. \n",
    "\n",
    "First, we need a way to load an image into python. We can do this with the PIL library, which can load an image into a two dimensional array of tuples, with each tuple representing the RGB value for each pixel. \n",
    "\n",
    "The program works best with images that contain large regions of roughly the same color. For this example, we will use the following image:\n",
    "\n",
    "![](TestImage.jpg)"
   ]
  },
  {
   "cell_type": "markdown",
   "metadata": {},
   "source": [
    "First, we need to load the image into Python, determine its dimensions, and set a few parameters. \n",
    "\n",
    "We will set the color threshold to 7, meaning that if any RGB element of pixel is within 7 points of another pixel, they will be treated as the same color.\n",
    "\n",
    "The step determines how many pixels to skip over when iterating over the image. While ideally it would be best to check every pixel, we can save on computation time by allowing some pixels to be skipped. "
   ]
  },
  {
   "cell_type": "code",
   "execution_count": 2,
   "metadata": {},
   "outputs": [],
   "source": [
    "input_filename = \"TestImage.jpg\"\n",
    "threshold = 7\n",
    "step = 5\n",
    "\n",
    "img = Image.open(input_filename)\n",
    "pixels = img.load()\n",
    "width, height = img.size"
   ]
  },
  {
   "cell_type": "markdown",
   "metadata": {},
   "source": [
    "Next, we need a way to generate a list of points on the perimiter of a circle from a given radius. This way, we can compare the color at each point to the color at the center of the circle, and if every pixel is within the threshold, we can determine that the circle does pass through any major features. We can do this with two functions, one to generate the relative points around a radius and another to calculate their absolute position on the image."
   ]
  },
  {
   "cell_type": "code",
   "execution_count": 3,
   "metadata": {},
   "outputs": [],
   "source": [
    "def get_relative_points(radius):\n",
    "    # Number of points to calculate within one quadrant\n",
    "    radius = radius + 1\n",
    "    quadrant = []\n",
    "    angle = math.pi / (2 * radius)\n",
    "\n",
    "    # Calculate relative locations of each point within the quadrant\n",
    "    for x in range(1, radius + 1):\n",
    "        xcoord = int(round(radius * math.cos(x * angle)))\n",
    "        ycoord = int(round(radius * math.sin(x * angle)))\n",
    "        quadrant.append((xcoord, ycoord))\n",
    "\n",
    "    # Calculate each relative point within the edge of the circle\n",
    "    points = []\n",
    "    for point in quadrant:\n",
    "        points.append((point[0], point[1]))\n",
    "        points.append((point[0], (point[1] * -1)))\n",
    "        points.append(((point[0] * -1), point[1]))\n",
    "        points.append(((point[0] * -1), (point[1] * -1)))\n",
    "\n",
    "    return points\n",
    "\n",
    "\n",
    "def get_points(x, y, radius):\n",
    "    relative_points = get_relative_points(radius)\n",
    "    absolute_points = []\n",
    "\n",
    "    for relative_point in relative_points:\n",
    "        absolute_points.append((x + relative_point[0], y + relative_point[1]))\n",
    "\n",
    "    return absolute_points"
   ]
  },
  {
   "cell_type": "markdown",
   "metadata": {},
   "source": [
    "Since we need to frequently determine whether or not to pixels are the same color, we can wrap this up into a function as well:"
   ]
  },
  {
   "cell_type": "code",
   "execution_count": 4,
   "metadata": {},
   "outputs": [],
   "source": [
    "def closeness(color_a, color_b):\n",
    "    if color_a is None or color_b is None:\n",
    "        return 255\n",
    "\n",
    "    a = abs(color_a[0] - color_b[0])\n",
    "    b = abs(color_a[1] - color_b[1])\n",
    "    c = abs(color_a[2] - color_b[2])\n",
    "    mean = (a + b + c) / 3\n",
    "\n",
    "    return int(mean)"
   ]
  },
  {
   "cell_type": "markdown",
   "metadata": {},
   "source": [
    "We will also need to make sure that we are only checking pixels that are within the bounds of the image. Specifically, that the radius of a new circle will stay within the bounds of the image, and that each pixel is within the bounds of the image:"
   ]
  },
  {
   "cell_type": "code",
   "execution_count": 5,
   "metadata": {},
   "outputs": [],
   "source": [
    "def on_image(x, y, width, height):\n",
    "    if x < 0 or y < 0:\n",
    "        return False\n",
    "    if x > width - 1 or y > height - 1:\n",
    "        return False\n",
    "    return True\n",
    "\n",
    "\n",
    "def radius_off_image(x, y, radius, width, height):\n",
    "    if (x - radius) < 0 or (y - radius) < 0:\n",
    "        return True\n",
    "    if (x + radius) > width or (y + radius) > height:\n",
    "        return True\n",
    "    return False"
   ]
  },
  {
   "cell_type": "markdown",
   "metadata": {},
   "source": [
    "## Testing an individual circle\n",
    "\n",
    "Now that we have a few basic functions for checking the image, we can create a function for testing whether or not a circle intercepts any features on the image. We will create a test_radius function that returns True if a circle of a specific radius centered at a specific x-y coordinate is valid."
   ]
  },
  {
   "cell_type": "code",
   "execution_count": 6,
   "metadata": {},
   "outputs": [],
   "source": [
    "# Tests if a circle of a given radius is within the color threshold\n",
    "def test_radius(x, y, radius, pixels, width, height, threshold):\n",
    "    # Make sure that all the bounds of the circle are within the image\n",
    "    if radius_off_image(x, y, radius, width, height):\n",
    "        return False\n",
    "\n",
    "    # Calculate each point on the perimeter of the circle\n",
    "    absolute_points = get_points(x, y, radius)\n",
    "\n",
    "    # Determine the color at the center of the circle\n",
    "    center_color = pixels[x, y]\n",
    "\n",
    "    for point in absolute_points:\n",
    "        if not on_image(point[0], point[1], width, height):\n",
    "            return False\n",
    "        point_color = pixels[point[0], point[1]]\n",
    "        if closeness(center_color, point_color) > threshold:\n",
    "            return False\n",
    "    return True"
   ]
  },
  {
   "cell_type": "markdown",
   "metadata": {},
   "source": [
    "As an example, we can try to test a few circles around the image and check if they are valid.\n",
    "\n",
    "The circle of radius 10 centered at (50, 300) should be valid and return True, as it is located roughly within the center of the lower-left part of the image with no features in the way.\n",
    "\n",
    "The circle of radius 100 centered at the same location should return False, as the bounds of the circle will be outside the bounds of the image. \n",
    "\n",
    "Likewise, the circle of radius 100 centered at (150, 250) should also return False, as it crosses between the light and dark blue regions of the image."
   ]
  },
  {
   "cell_type": "code",
   "execution_count": 7,
   "metadata": {},
   "outputs": [
    {
     "name": "stdout",
     "output_type": "stream",
     "text": [
      "True\n",
      "False\n",
      "False\n"
     ]
    }
   ],
   "source": [
    "print(test_radius(50, 300, 10, pixels, width, height, threshold))\n",
    "print(test_radius(50, 300, 100, pixels, width, height, threshold))\n",
    "print(test_radius(150, 250, 100, pixels, width, height, threshold))"
   ]
  },
  {
   "cell_type": "markdown",
   "metadata": {},
   "source": [
    "Next, we need to find the largest circle that can be drawn centered at a given point. We can do this by continously increasing the radius of the circle we are checking until we find one that fails the test_radius method."
   ]
  },
  {
   "cell_type": "code",
   "execution_count": 16,
   "metadata": {},
   "outputs": [],
   "source": [
    "def find_biggest_radius(x, y, pixels, width, height, threshold, step, current_radius):\n",
    "    radius = current_radius\n",
    "    while test_radius(x, y, radius, pixels, width, height, threshold):\n",
    "        radius = radius + step\n",
    "    return radius"
   ]
  },
  {
   "cell_type": "markdown",
   "metadata": {},
   "source": [
    "If we call the find_biggest_radius function at the center of the black box in the upper-left corner of the image, it will return the radius of a circle that roughly fills the entire black box. Here we will use the location (60, 60) and a step size of 5, meaning at each step increase the radius by 5 rather than checking every possible radius, to save compuation time. "
   ]
  },
  {
   "cell_type": "code",
   "execution_count": 9,
   "metadata": {},
   "outputs": [
    {
     "name": "stdout",
     "output_type": "stream",
     "text": [
      "64\n"
     ]
    }
   ],
   "source": [
    "print(find_biggest_radius(60, 60, pixels, width, height, threshold, 5, 5))"
   ]
  },
  {
   "cell_type": "markdown",
   "metadata": {},
   "source": [
    "Now all we need to do is iterate over each pixel in the image, call find_biggest_radius on each pixel, and determine the location of the largest circle that can be drawn on the image. As with the find_biggest_radius function, we will include a step size, so that can save computation time by skipping some pixels in the image. "
   ]
  },
  {
   "cell_type": "code",
   "execution_count": 10,
   "metadata": {},
   "outputs": [],
   "source": [
    "def find_biggest_circle(pixels, width, height, threshold, step=5):\n",
    "    largest_circle = (0, 0, 0)\n",
    "    current_radius = 4\n",
    "    for x in range(0, width, 5):\n",
    "        print(\"\\rProgress {:2.1%}\".format(x / width), end=\"\")\n",
    "        for y in range(0, height, step):\n",
    "            current_radius = find_biggest_radius(x, y, pixels, width, height, threshold, step, current_radius)\n",
    "            if current_radius > largest_circle[2]:\n",
    "                largest_circle = (x, y, current_radius)\n",
    "    print(\"\\rProgress {:2.1%}\".format(width / width))\n",
    "    return largest_circle"
   ]
  },
  {
   "cell_type": "code",
   "execution_count": 17,
   "metadata": {},
   "outputs": [
    {
     "name": "stdout",
     "output_type": "stream",
     "text": [
      "Progress 100.0%\n",
      "(285, 295, 104)\n"
     ]
    }
   ],
   "source": [
    "biggest_circle = find_biggest_circle(pixels, width, height, threshold, 5)\n",
    "print(biggest_circle)"
   ]
  },
  {
   "cell_type": "markdown",
   "metadata": {},
   "source": [
    "Now that we know the coordinates and size of the largest possible circle, we can draw the circle on the image by using the PIL ImageDraw library. We'll also define a function for displaying images using matplotlib."
   ]
  },
  {
   "cell_type": "code",
   "execution_count": 12,
   "metadata": {},
   "outputs": [],
   "source": [
    "def draw_circle(image, circle, fill_color):\n",
    "    draw = ImageDraw.Draw(image)\n",
    "    bounding_box = (circle[0] - circle[2], circle[1] - circle[2], circle[0] + circle[2], circle[1] + circle[2])\n",
    "    draw.ellipse(bounding_box, fill=fill_color)\n",
    "    return image\n",
    "\n",
    "def display_image(filename):\n",
    "    plt.clf()\n",
    "    disp_image = misc.imread(filename)\n",
    "    plt.imshow(disp_image)\n",
    "    plt.show()"
   ]
  },
  {
   "cell_type": "code",
   "execution_count": 13,
   "metadata": {},
   "outputs": [],
   "source": [
    "new_image = draw_circle(img, biggest_circle, (255, 255, 255))\n",
    "new_image.save(\"NewImage.png\")"
   ]
  },
  {
   "cell_type": "markdown",
   "metadata": {},
   "source": []
  },
  {
   "cell_type": "markdown",
   "metadata": {},
   "source": [
    "Lets try it on another image, this time wrapping it into a single function to open, parse, and save the modified image."
   ]
  },
  {
   "cell_type": "code",
   "execution_count": 14,
   "metadata": {},
   "outputs": [],
   "source": [
    "def parse_image(old_filename, new_filename):\n",
    "    img = Image.open(old_filename)\n",
    "    pixels = img.load()\n",
    "    width, height = img.size\n",
    "    \n",
    "    biggest_circle = find_biggest_circle(pixels, width, height, 7, 5)\n",
    "    new_image = draw_circle(img, biggest_circle, (255, 255, 255))\n",
    "    new_image.save(new_filename)"
   ]
  },
  {
   "cell_type": "code",
   "execution_count": 15,
   "metadata": {},
   "outputs": [
    {
     "name": "stdout",
     "output_type": "stream",
     "text": [
      "Progress 100.0%\n"
     ]
    }
   ],
   "source": [
    "parse_image(\"TestImage2.jpg\", \"NewTestImage2.png\")"
   ]
  },
  {
   "cell_type": "markdown",
   "metadata": {},
   "source": [
    "### Old Image\n",
    "\n",
    "![](TestImage2.jpg)\n",
    "\n",
    "### New Image\n",
    "\n",
    "![](NewTestImage2.png)"
   ]
  },
  {
   "cell_type": "code",
   "execution_count": 21,
   "metadata": {},
   "outputs": [
    {
     "data": {
      "image/png": "[encoded data removed]",
      "text/plain": [
       "<matplotlib.figure.Figure at 0x7f13f4f8e358>"
      ]
     },
     "metadata": {
      "needs_background": "light"
     },
     "output_type": "display_data"
    }
   ],
   "source": [
    "\n",
    "\n",
    "disp_image = misc.imread(\"NewTestImage2.png\")\n",
    "plt.imshow(disp_image)\n",
    "plt.show()"
   ]
  },
  {
   "cell_type": "code",
   "execution_count": null,
   "metadata": {},
   "outputs": [],
   "source": []
  }
 ],
 "metadata": {
  "kernelspec": {
   "display_name": "Python 3",
   "language": "python",
   "name": "python3"
  },
  "language_info": {
   "codemirror_mode": {
    "name": "ipython",
    "version": 3
   },
   "file_extension": ".py",
   "mimetype": "text/x-python",
   "name": "python",
   "nbconvert_exporter": "python",
   "pygments_lexer": "ipython3",
   "version": "3.6.3"
  }
 },
 "nbformat": 4,
 "nbformat_minor": 2
}
